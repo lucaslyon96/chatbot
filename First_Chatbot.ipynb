{
  "nbformat": 4,
  "nbformat_minor": 0,
  "metadata": {
    "colab": {
      "name": "First Chatbot.ipynb",
      "version": "0.3.2",
      "provenance": []
    },
    "kernelspec": {
      "name": "python3",
      "display_name": "Python 3"
    }
  },
  "cells": [
    {
      "cell_type": "code",
      "metadata": {
        "id": "uf8m2oJ7NJfF",
        "colab_type": "code",
        "colab": {}
      },
      "source": [
        "!pip install nltk"
      ],
      "execution_count": 0,
      "outputs": []
    },
    {
      "cell_type": "code",
      "metadata": {
        "id": "Iz-AA7onPnWY",
        "colab_type": "code",
        "colab": {}
      },
      "source": [
        "import nltk"
      ],
      "execution_count": 0,
      "outputs": []
    },
    {
      "cell_type": "code",
      "metadata": {
        "id": "E1nCw8ucPr0I",
        "colab_type": "code",
        "colab": {}
      },
      "source": [
        "nltk.download()"
      ],
      "execution_count": 0,
      "outputs": []
    },
    {
      "cell_type": "code",
      "metadata": {
        "id": "f9ylk-tHWCNs",
        "colab_type": "code",
        "colab": {}
      },
      "source": [
        "import nltk\n",
        "import numpy as np\n",
        "import random\n",
        "import string # para processar string padrao do python"
      ],
      "execution_count": 0,
      "outputs": []
    },
    {
      "cell_type": "code",
      "metadata": {
        "id": "he-pGi-qXGPg",
        "colab_type": "code",
        "colab": {
          "base_uri": "https://localhost:8080/",
          "height": 85
        },
        "outputId": "37743589-9e59-43b8-ee0b-36c32c1510dc"
      },
      "source": [
        "f=open('chatbot.txt','r',errors = 'ignore')\n",
        "\n",
        "raw = f.read()\n",
        "\n",
        "raw = raw.lower() #converter para minusculas\n",
        "\n",
        "nltk.download('punkt') # apenas use\n",
        "nltk.download('wordnet') # apenas use\n",
        "\n",
        "sent_tokens = nltk.sent_tokenize(raw) # convertes para lista de sentenças\n",
        "word_tokens = nltk.word_tokenize(raw) # converter para lista de palavras\n"
      ],
      "execution_count": 6,
      "outputs": [
        {
          "output_type": "stream",
          "text": [
            "[nltk_data] Downloading package punkt to /root/nltk_data...\n",
            "[nltk_data]   Unzipping tokenizers/punkt.zip.\n",
            "[nltk_data] Downloading package wordnet to /root/nltk_data...\n",
            "[nltk_data]   Unzipping corpora/wordnet.zip.\n"
          ],
          "name": "stdout"
        }
      ]
    },
    {
      "cell_type": "code",
      "metadata": {
        "id": "fdmM2t0XYrum",
        "colab_type": "code",
        "colab": {
          "base_uri": "https://localhost:8080/",
          "height": 71
        },
        "outputId": "cb54224b-cff7-4a9b-92cc-4b30249d9de1"
      },
      "source": [
        "sent_tokens[:2]"
      ],
      "execution_count": 7,
      "outputs": [
        {
          "output_type": "execute_result",
          "data": {
            "text/plain": [
              "['a chatbot (also known as a spy, conversational bot, chatterbot, interactive agent, conversational interface, conversational ai, talkbot or artificial spy entity) is a computer program or an artificial intelligence which conducts a conversation via auditory or textual methods.',\n",
              " '[1] such programs are often designed to convincingly simulate how a human would behave as a conversational partner, thereby passing the turing test.']"
            ]
          },
          "metadata": {
            "tags": []
          },
          "execution_count": 7
        }
      ]
    },
    {
      "cell_type": "code",
      "metadata": {
        "id": "c6QwJQ5MYyq2",
        "colab_type": "code",
        "colab": {
          "base_uri": "https://localhost:8080/",
          "height": 34
        },
        "outputId": "bd2f609e-9110-4d7d-b855-4ae3a6e95353"
      },
      "source": [
        "word_tokens[:2]"
      ],
      "execution_count": 8,
      "outputs": [
        {
          "output_type": "execute_result",
          "data": {
            "text/plain": [
              "['a', 'chatbot']"
            ]
          },
          "metadata": {
            "tags": []
          },
          "execution_count": 8
        }
      ]
    },
    {
      "cell_type": "code",
      "metadata": {
        "id": "fTPWvk_sY9wo",
        "colab_type": "code",
        "colab": {}
      },
      "source": [
        "#lemmatization é basicamente considerar palavras que estão no mesmo lema\n",
        "#como as mesmas, por exemplo no ingles : run ran runing\n",
        "lemmer = nltk.stem.WordNetLemmatizer() #wordNet é uma semantica do \n",
        "#dicionario de ingles incluso no NLTK\n",
        "\n",
        "def LemTokens(tokens):\n",
        "  return [lemmer.lemmatize(token) for token in tokens]\n",
        "remove_punct_dict = dict((ord(punct),None)for punct in string.punctuation)\n",
        "def LemNormalize(text):\n",
        "  return LemTokens(nltk.word_tokenize(text.lower().translate(remove_punct_dict)))"
      ],
      "execution_count": 0,
      "outputs": []
    },
    {
      "cell_type": "code",
      "metadata": {
        "id": "hBs7AzHUbbal",
        "colab_type": "code",
        "colab": {}
      },
      "source": [
        "#vamos começar a conversa \n",
        "GREETING_INPUTS = (\"hello\",\"hi\",\"greetings\",\"sup\",\"what's up\",\"hey\",)\n",
        "\n",
        "GREETING_RESPONSES = [\"hi\",\"hey\",\"*nods*\",\"hi there\",\n",
        "                      \"I am glad! You are talking to me\",\n",
        "                      \"hello\"]\n",
        "def greeting(sentence):\n",
        "  \n",
        "   for word in sentence.split():\n",
        "      if word.lower() in GREETING_INPUTS:\n",
        "        return random.choice(GREETING_RESPONSES)\n"
      ],
      "execution_count": 0,
      "outputs": []
    },
    {
      "cell_type": "code",
      "metadata": {
        "id": "QTMIVPVAPwzq",
        "colab_type": "code",
        "colab": {}
      },
      "source": [
        "from sklearn.feature_extraction.text import TfidfVectorizer"
      ],
      "execution_count": 0,
      "outputs": []
    },
    {
      "cell_type": "code",
      "metadata": {
        "id": "IfFgLGM7dH0M",
        "colab_type": "code",
        "colab": {}
      },
      "source": [
        "from sklearn.metrics.pairwise import cosine_similarity"
      ],
      "execution_count": 0,
      "outputs": []
    },
    {
      "cell_type": "code",
      "metadata": {
        "id": "XyJYjrp-dai9",
        "colab_type": "code",
        "colab": {}
      },
      "source": [
        "def response(user_response):\n",
        "  robo_response=''\n",
        "  sent_tokens.append(user_response)\n",
        "  \n",
        "  TfidfVec = TfidfVectorizer(tokenizer = LemNormalize,stop_words='english')\n",
        "  tfidf = TfidfVec.fit_transform(sent_tokens)\n",
        "  vals = cosine_similarity(tfidf[-1],tfidf)\n",
        "  idx = vals.argsort()[0][-2]\n",
        "  flat = vals.flatten()\n",
        "  flat.sort()\n",
        "  req_tfidf = flat[-2]\n",
        "  \n",
        "  if(req_tfidf == 0):\n",
        "    robo_response = robo_response+\"I am sorry! I don't understand you\"\n",
        "    return robo_response\n",
        "  else:\n",
        "    robo_response = robo_response+sent_tokens[idx]\n",
        "    return robo_response"
      ],
      "execution_count": 0,
      "outputs": []
    },
    {
      "cell_type": "code",
      "metadata": {
        "id": "WZ41sr4zf5jv",
        "colab_type": "code",
        "colab": {}
      },
      "source": [
        "flag = True\n",
        "print(\"ROBO: My name is Lyon. I will answer your queries about Chatbots. If you want to exit, type Bye!\")\n",
        "\n",
        "while (flag==True):\n",
        "  user_response = input()\n",
        "  user_response=user_response.lower()\n",
        "  if(user_response!='bye'):\n",
        "    if(user_response=='thanks' or user_response=='thank you'):\n",
        "      flag=False\n",
        "      print(\"Lyon: You are welcome..\")\n",
        "    else:\n",
        "      if(greeting(user_response)!=None):\n",
        "        print(\"Lyon: \"+greeting(user_response))\n",
        "      else:\n",
        "        print(\"Lyon: \",end=\"\")\n",
        "        print(response(user_response))\n",
        "        sent_tokens.remove(user_response)\n",
        "  else:\n",
        "    flag=False\n",
        "    print(\"Lyon: Bye! take care..\")"
      ],
      "execution_count": 0,
      "outputs": []
    },
    {
      "cell_type": "code",
      "metadata": {
        "id": "mUeCT8k1iVHj",
        "colab_type": "code",
        "colab": {}
      },
      "source": [
        ""
      ],
      "execution_count": 0,
      "outputs": []
    }
  ]
}